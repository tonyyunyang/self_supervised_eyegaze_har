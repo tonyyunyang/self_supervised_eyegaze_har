{
 "cells": [
  {
   "cell_type": "code",
   "id": "initial_id",
   "metadata": {
    "collapsed": true,
    "ExecuteTime": {
     "end_time": "2024-06-14T13:53:08.948730Z",
     "start_time": "2024-06-14T13:53:08.944474Z"
    }
   },
   "source": [
    "# Ensure reproducibility\n",
    "import os\n",
    "print(os.environ.get(\"CUBLAS_WORKSPACE_CONFIG\")) # Default is None\n",
    "os.environ[\"CUBLAS_WORKSPACE_CONFIG\"] = \":4096:8\"\n",
    "print(os.environ.get(\"CUBLAS_WORKSPACE_CONFIG\"))"
   ],
   "outputs": [
    {
     "name": "stdout",
     "output_type": "stream",
     "text": [
      "None\n",
      ":4096:8\n"
     ]
    }
   ],
   "execution_count": 1
  },
  {
   "metadata": {
    "ExecuteTime": {
     "end_time": "2024-06-14T13:53:09.712933Z",
     "start_time": "2024-06-14T13:53:08.949729Z"
    }
   },
   "cell_type": "code",
   "source": [
    "import json\n",
    "from pprint import pprint\n",
    "from utils.plant_seed import plant_seed\n",
    "\n",
    "seed_worker, g = plant_seed(0)"
   ],
   "id": "73ff7a0f8a53b219",
   "outputs": [],
   "execution_count": 2
  },
  {
   "metadata": {
    "ExecuteTime": {
     "end_time": "2024-06-14T13:53:09.716717Z",
     "start_time": "2024-06-14T13:53:09.713882Z"
    }
   },
   "cell_type": "code",
   "source": [
    "label_map = {\n",
    "    0: \"BROWSE\",\n",
    "    1: \"PLAY\",\n",
    "    2: \"READ\",\n",
    "    3: \"SEARCH\",\n",
    "    4: \"WATCH\",\n",
    "    5: \"WRITE\"\n",
    "}"
   ],
   "id": "cc8f35b133b6a22e",
   "outputs": [],
   "execution_count": 3
  },
  {
   "metadata": {
    "ExecuteTime": {
     "end_time": "2024-06-14T13:53:09.729062Z",
     "start_time": "2024-06-14T13:53:09.717290Z"
    }
   },
   "cell_type": "code",
   "source": [
    "config_file_path = \"utils/DesktopActivity_config.json\"\n",
    "with open(config_file_path, \"r\") as file:\n",
    "    config = json.load(file)\n",
    "pprint(config)"
   ],
   "id": "eb1dd6fd7f4e077",
   "outputs": [
    {
     "name": "stdout",
     "output_type": "stream",
     "text": [
      "{'V1Conv': {'dilation': 1, 'kernel_size': 3, 'padding': 1, 'stride': 1},\n",
      " 'V2Conv': {'dilation': 1, 'kernel_size': 3, 'padding': 1, 'stride': 1},\n",
      " 'data_path': 'dataset/training_data/DesktopActivity',\n",
      " 'data_type': 'dataset/training_data/DesktopActivity/overlap_0.0_window_10s',\n",
      " 'finetune_base_lr': 0.001,\n",
      " 'finetune_batch_size': 64,\n",
      " 'finetune_epoch': 100,\n",
      " 'finetune_final_lr': 0.0001,\n",
      " 'finetune_max_update_epochs': 100,\n",
      " 'finetune_proportion': 0.8,\n",
      " 'finetune_warmup_epochs': 10,\n",
      " 'kdd_model': {'conv_config': None,\n",
      "               'd_model': 128,\n",
      "               'dim_feedforward': 512,\n",
      "               'emb_dropout': 0.1,\n",
      "               'embedding': 'linear',\n",
      "               'enc_dropout': 0.1,\n",
      "               'feat_dim': None,\n",
      "               'max_seq_len': None,\n",
      "               'n_heads': 8,\n",
      "               'n_layers': 6},\n",
      " 'label_smoothing': 0.1,\n",
      " 'pretrain_base_lr': 0.001,\n",
      " 'pretrain_batch_size': 64,\n",
      " 'pretrain_epoch': 100,\n",
      " 'pretrain_final_lr': 0.0001,\n",
      " 'pretrain_max_update_epochs': 100,\n",
      " 'pretrain_model_path': None,\n",
      " 'pretrain_proportion': 0.8,\n",
      " 'pretrain_warmup_epochs': 10,\n",
      " 'result_path': 'results/DesktopActivity'}\n"
     ]
    }
   ],
   "execution_count": 4
  },
  {
   "metadata": {
    "ExecuteTime": {
     "end_time": "2024-06-14T13:53:09.731311Z",
     "start_time": "2024-06-14T13:53:09.730065Z"
    }
   },
   "cell_type": "code",
   "source": "",
   "id": "72cf9527f6db50b9",
   "outputs": [],
   "execution_count": 4
  }
 ],
 "metadata": {
  "kernelspec": {
   "display_name": "Python 3",
   "language": "python",
   "name": "python3"
  },
  "language_info": {
   "codemirror_mode": {
    "name": "ipython",
    "version": 2
   },
   "file_extension": ".py",
   "mimetype": "text/x-python",
   "name": "python",
   "nbconvert_exporter": "python",
   "pygments_lexer": "ipython2",
   "version": "2.7.6"
  }
 },
 "nbformat": 4,
 "nbformat_minor": 5
}
