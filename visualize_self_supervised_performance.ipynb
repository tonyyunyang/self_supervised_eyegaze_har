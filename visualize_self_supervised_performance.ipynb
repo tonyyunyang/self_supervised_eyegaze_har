{
 "cells": [
  {
   "cell_type": "code",
   "id": "initial_id",
   "metadata": {
    "collapsed": true,
    "ExecuteTime": {
     "end_time": "2024-07-01T19:25:08.236552Z",
     "start_time": "2024-07-01T19:25:07.993457Z"
    }
   },
   "source": "from utils.load_h5 import explore_h5_file, visualize_h5_filtered_data_both_dimensions",
   "outputs": [],
   "execution_count": 1
  },
  {
   "metadata": {
    "ExecuteTime": {
     "end_time": "2024-07-01T19:25:08.241675Z",
     "start_time": "2024-07-01T19:25:08.237456Z"
    }
   },
   "cell_type": "code",
   "source": [
    "file_path = \"results/DesktopActivity_Standardized/overlap_0.0_window_15s/self_supervised/feat_dim_2_d_model_128_n_heads_16_n_layers_1_d_ff_256_emb_dropout_0.1_enc_dropout_0.1_embedding_convolution_conv_config_V2Conv/epochs_551_max_update_steps_501_warmup_steps_50_batch_size_32_base_lr_0.0001_final_lr_0.00001/P01_leave_out/imputate_result/train_imputation_result.h5\"\n",
    "\n",
    "explore_h5_file(file_path)"
   ],
   "id": "836c2172986b1035",
   "outputs": [
    {
     "name": "stdout",
     "output_type": "stream",
     "text": [
      "/mask:\n",
      "  Shape: (168, 450, 2)\n",
      "  Dtype: bool\n",
      "/original_input:\n",
      "  Shape: (168, 450, 2)\n",
      "  Dtype: float32\n",
      "/predicted_output:\n",
      "  Shape: (168, 450, 2)\n",
      "  Dtype: float32\n"
     ]
    }
   ],
   "execution_count": 2
  },
  {
   "metadata": {
    "ExecuteTime": {
     "end_time": "2024-07-01T19:25:08.513881Z",
     "start_time": "2024-07-01T19:25:08.242333Z"
    }
   },
   "cell_type": "code",
   "source": "visualize_h5_filtered_data_both_dimensions(file_path)",
   "id": "29be7404c9deebbf",
   "outputs": [
    {
     "data": {
      "text/plain": [
       "interactive(children=(IntSlider(value=0, description='index', max=167), Output()), _dom_classes=('widget-inter…"
      ],
      "application/vnd.jupyter.widget-view+json": {
       "version_major": 2,
       "version_minor": 0,
       "model_id": "a1e90b26843946f7acf79fb8e23c20c2"
      }
     },
     "metadata": {},
     "output_type": "display_data"
    }
   ],
   "execution_count": 3
  }
 ],
 "metadata": {
  "kernelspec": {
   "display_name": "Python 3",
   "language": "python",
   "name": "python3"
  },
  "language_info": {
   "codemirror_mode": {
    "name": "ipython",
    "version": 2
   },
   "file_extension": ".py",
   "mimetype": "text/x-python",
   "name": "python",
   "nbconvert_exporter": "python",
   "pygments_lexer": "ipython2",
   "version": "2.7.6"
  }
 },
 "nbformat": 4,
 "nbformat_minor": 5
}
