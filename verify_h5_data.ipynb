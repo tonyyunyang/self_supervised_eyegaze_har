{
 "cells": [
  {
   "cell_type": "code",
   "id": "initial_id",
   "metadata": {
    "collapsed": true
   },
   "source": [
    "import h5py\n",
    "import numpy as np"
   ],
   "outputs": [],
   "execution_count": null
  },
  {
   "metadata": {},
   "cell_type": "code",
   "source": "file_path = 'dataset/training_data/ReadingActivity/overlap_0.0_window_10s/overlap_0.0_window_10s.h5'",
   "id": "c8240b65398be8dd",
   "outputs": [],
   "execution_count": null
  },
  {
   "metadata": {},
   "cell_type": "code",
   "source": [
    "with h5py.File(file_path, 'r') as h5_file:\n",
    "    training_data = h5_file['training_data']\n",
    "    labels = h5_file['labels']\n",
    "\n",
    "    # Specify the number of samples to display\n",
    "    num_samples_to_display = 5\n",
    "\n",
    "    # Display the first few samples\n",
    "    for index in range(num_samples_to_display):\n",
    "        sample = training_data[index]\n",
    "        label = labels[index]\n",
    "\n",
    "        print(f\"Sample {index}:\")\n",
    "        print(\"Training Data:\")\n",
    "        print(sample)\n",
    "        print(\"Label:\")\n",
    "        print(f\"Subject: {label[0]}, Activity: {label[1]}\")\n",
    "        print()\n",
    "        \n",
    "    # Find unique values in the 'labels' dataset\n",
    "    unique_subjects = np.unique(labels[:, 0])\n",
    "    unique_activities = np.unique(labels[:, 1])\n",
    "\n",
    "    print(\"Unique Subjects:\")\n",
    "    print(unique_subjects)\n",
    "    print()\n",
    "\n",
    "    print(\"Unique Activities:\")\n",
    "    print(unique_activities)\n",
    "    print()\n",
    "    \n",
    "    print(f\"Number of Samples: {len(training_data)}\")"
   ],
   "id": "b1d128989b909005",
   "outputs": [],
   "execution_count": null
  },
  {
   "metadata": {},
   "cell_type": "code",
   "source": "",
   "id": "af3bf6fa5b0fa147",
   "outputs": [],
   "execution_count": null
  }
 ],
 "metadata": {
  "kernelspec": {
   "display_name": "Python 3",
   "language": "python",
   "name": "python3"
  },
  "language_info": {
   "codemirror_mode": {
    "name": "ipython",
    "version": 2
   },
   "file_extension": ".py",
   "mimetype": "text/x-python",
   "name": "python",
   "nbconvert_exporter": "python",
   "pygments_lexer": "ipython2",
   "version": "2.7.6"
  }
 },
 "nbformat": 4,
 "nbformat_minor": 5
}
