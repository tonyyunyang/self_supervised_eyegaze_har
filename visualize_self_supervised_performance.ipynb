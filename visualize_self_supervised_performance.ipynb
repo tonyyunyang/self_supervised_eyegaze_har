{
 "cells": [
  {
   "cell_type": "code",
   "id": "initial_id",
   "metadata": {
    "collapsed": true,
    "ExecuteTime": {
     "end_time": "2024-07-15T00:21:32.684484Z",
     "start_time": "2024-07-15T00:21:32.347410Z"
    }
   },
   "source": "from utils.load_h5 import explore_h5_file, visualize_h5_filtered_data_both_dimensions",
   "outputs": [],
   "execution_count": 1
  },
  {
   "metadata": {
    "ExecuteTime": {
     "end_time": "2024-07-15T00:21:32.689683Z",
     "start_time": "2024-07-15T00:21:32.685762Z"
    }
   },
   "cell_type": "code",
   "source": [
    "file_path = \"results/DesktopActivity/overlap_0.0_window_15s/self_supervised/feat_dim_2_d_model_64_n_heads_8_n_layers_1_d_ff_128_emb_dropout_0.1_enc_dropout_0.1_embedding_convolution_conv_config_V3Conv/epochs_501_max_update_steps_501_warmup_steps_50_batch_size_64_base_lr_0.001_final_lr_0.001/P01_leave_out/imputate_result/train_imputation_result.h5\"\n",
    "\n",
    "explore_h5_file(file_path)"
   ],
   "id": "836c2172986b1035",
   "outputs": [
    {
     "name": "stdout",
     "output_type": "stream",
     "text": [
      "/mask:\n",
      "  Shape: (168, 450, 2)\n",
      "  Dtype: bool\n",
      "/original_input:\n",
      "  Shape: (168, 450, 2)\n",
      "  Dtype: float32\n",
      "/predicted_output:\n",
      "  Shape: (168, 450, 2)\n",
      "  Dtype: float32\n"
     ]
    }
   ],
   "execution_count": 2
  },
  {
   "metadata": {
    "ExecuteTime": {
     "end_time": "2024-07-15T00:21:32.848183Z",
     "start_time": "2024-07-15T00:21:32.690327Z"
    }
   },
   "cell_type": "code",
   "source": "visualize_h5_filtered_data_both_dimensions(file_path)",
   "id": "29be7404c9deebbf",
   "outputs": [
    {
     "data": {
      "text/plain": [
       "interactive(children=(IntSlider(value=0, description='index', max=167), Output()), _dom_classes=('widget-inter…"
      ],
      "application/vnd.jupyter.widget-view+json": {
       "version_major": 2,
       "version_minor": 0,
       "model_id": "ed84561aed874718b2a1d3da4c4a9042"
      }
     },
     "metadata": {},
     "output_type": "display_data"
    }
   ],
   "execution_count": 3
  }
 ],
 "metadata": {
  "kernelspec": {
   "display_name": "Python 3",
   "language": "python",
   "name": "python3"
  },
  "language_info": {
   "codemirror_mode": {
    "name": "ipython",
    "version": 2
   },
   "file_extension": ".py",
   "mimetype": "text/x-python",
   "name": "python",
   "nbconvert_exporter": "python",
   "pygments_lexer": "ipython2",
   "version": "2.7.6"
  }
 },
 "nbformat": 4,
 "nbformat_minor": 5
}
