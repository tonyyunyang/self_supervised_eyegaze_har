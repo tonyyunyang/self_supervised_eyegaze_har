{
 "cells": [
  {
   "metadata": {},
   "cell_type": "markdown",
   "source": "# Prepare DesktopActivity dataset into h5 file",
   "id": "71bc8203e7b31304"
  },
  {
   "cell_type": "code",
   "id": "initial_id",
   "metadata": {
    "collapsed": true
   },
   "source": [
    "import os\n",
    "from dataset.prepare_h5_file import process_data"
   ],
   "outputs": [],
   "execution_count": null
  },
  {
   "metadata": {},
   "cell_type": "code",
   "source": [
    "# initialize the configurations, change the values as needed\n",
    "raw_data_path = 'dataset/DesktopActivity/ALL'\n",
    "output_path = 'dataset/training_data/DesktopActivity_Standardized'\n",
    "window_time = 20 # in seconds\n",
    "overlap = 0.0 # in percentage\n",
    "window_length = window_time * 30 # in datapoints, sampling rate is 30Hz"
   ],
   "id": "38281512c38052e8",
   "outputs": [],
   "execution_count": null
  },
  {
   "metadata": {},
   "cell_type": "code",
   "source": [
    "# creating necessary directories, do not touch this cell\n",
    "file_path_name = f'overlap_{overlap}_window_{window_time}s'\n",
    "file_name = f'overlap_{overlap}_window_{window_time}s.h5'\n",
    "os.makedirs(os.path.join(output_path, file_path_name), exist_ok=True)\n",
    "assert not os.path.exists(os.path.join(output_path, file_path_name, file_name)), f'{file_name} already exists'"
   ],
   "id": "73d46d21460bc71",
   "outputs": [],
   "execution_count": null
  },
  {
   "metadata": {},
   "cell_type": "code",
   "source": "process_data(window_length, overlap, raw_data_path, os.path.join(output_path, file_path_name), file_name, standardize=True)",
   "id": "c901e1a38fa2964e",
   "outputs": [],
   "execution_count": null
  },
  {
   "metadata": {},
   "cell_type": "markdown",
   "source": "# Prepare ReadingActivity dataset into h5 file",
   "id": "963b6419249edc9e"
  },
  {
   "metadata": {},
   "cell_type": "code",
   "source": [
    "import os\n",
    "from dataset.prepare_h5_file import process_data"
   ],
   "id": "5a31d561f4fedeb7",
   "outputs": [],
   "execution_count": null
  },
  {
   "metadata": {},
   "cell_type": "code",
   "source": [
    "# initialize the configurations, change the values as needed\n",
    "raw_data_path = 'dataset/ReadingActivity'\n",
    "output_path = 'dataset/training_data/ReadingActivity_Standardized'\n",
    "window_time = 20 # in seconds\n",
    "overlap = 0.0 # in percentage\n",
    "window_length = window_time * 30 # in datapoints, sampling rate is 30Hz"
   ],
   "id": "96fd3d8e94c8b6fa",
   "outputs": [],
   "execution_count": null
  },
  {
   "metadata": {},
   "cell_type": "code",
   "source": [
    "# creating necessary directories, do not touch this cell\n",
    "file_path_name = f'overlap_{overlap}_window_{window_time}s'\n",
    "file_name = f'overlap_{overlap}_window_{window_time}s.h5'\n",
    "os.makedirs(os.path.join(output_path, file_path_name), exist_ok=True)\n",
    "assert not os.path.exists(os.path.join(output_path, file_path_name, file_name)), f'{file_name} already exists'"
   ],
   "id": "55f8023054e1f51c",
   "outputs": [],
   "execution_count": null
  },
  {
   "metadata": {},
   "cell_type": "code",
   "source": "process_data(window_length, overlap, raw_data_path, os.path.join(output_path, file_path_name), file_name, standardize=True)",
   "id": "b2cded1aeb15406a",
   "outputs": [],
   "execution_count": null
  },
  {
   "metadata": {},
   "cell_type": "code",
   "source": "",
   "id": "115aaaa7f0a00d51",
   "outputs": [],
   "execution_count": null
  }
 ],
 "metadata": {
  "kernelspec": {
   "display_name": "Python 3",
   "language": "python",
   "name": "python3"
  },
  "language_info": {
   "codemirror_mode": {
    "name": "ipython",
    "version": 2
   },
   "file_extension": ".py",
   "mimetype": "text/x-python",
   "name": "python",
   "nbconvert_exporter": "python",
   "pygments_lexer": "ipython2",
   "version": "2.7.6"
  }
 },
 "nbformat": 4,
 "nbformat_minor": 5
}
