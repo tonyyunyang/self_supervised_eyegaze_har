{
 "cells": [
  {
   "cell_type": "code",
   "id": "initial_id",
   "metadata": {
    "collapsed": true,
    "ExecuteTime": {
     "end_time": "2024-08-02T12:48:09.626206Z",
     "start_time": "2024-08-02T12:48:09.382800Z"
    }
   },
   "source": "from utils.load_h5 import explore_h5_file, visualize_h5_filtered_data_both_dimensions",
   "outputs": [],
   "execution_count": 1
  },
  {
   "metadata": {
    "ExecuteTime": {
     "end_time": "2024-08-02T12:48:09.631098Z",
     "start_time": "2024-08-02T12:48:09.627402Z"
    }
   },
   "cell_type": "code",
   "source": [
    "file_path = \"results/DesktopActivity/overlap_0.8_window_30s/self_supervised/feat_dim_2_d_model_64_n_heads_8_n_layers_3_d_ff_256_emb_dropout_0.1_enc_dropout_0.1_embedding_convolution_conv_config_V3Conv_15sec/epochs_301_max_update_steps_301_warmup_steps_30_batch_size_64_base_lr_0.001_final_lr_0.001/P01_leave_out/imputate_result/train_imputation_result.h5\"\n",
    "\n",
    "explore_h5_file(file_path)"
   ],
   "id": "836c2172986b1035",
   "outputs": [
    {
     "name": "stdout",
     "output_type": "stream",
     "text": [
      "/mask:\n",
      "  Shape: (1546, 900, 2)\n",
      "  Dtype: bool\n",
      "/original_input:\n",
      "  Shape: (1546, 900, 2)\n",
      "  Dtype: float32\n",
      "/predicted_output:\n",
      "  Shape: (1546, 900, 2)\n",
      "  Dtype: float32\n"
     ]
    }
   ],
   "execution_count": 2
  },
  {
   "metadata": {
    "ExecuteTime": {
     "end_time": "2024-08-02T12:48:09.904818Z",
     "start_time": "2024-08-02T12:48:09.631663Z"
    }
   },
   "cell_type": "code",
   "source": "visualize_h5_filtered_data_both_dimensions(file_path)",
   "id": "29be7404c9deebbf",
   "outputs": [
    {
     "data": {
      "text/plain": [
       "interactive(children=(IntSlider(value=0, description='index', max=1545), Output()), _dom_classes=('widget-inte…"
      ],
      "application/vnd.jupyter.widget-view+json": {
       "version_major": 2,
       "version_minor": 0,
       "model_id": "c2c21197a3ae4c8299ffe4a18ef541eb"
      }
     },
     "metadata": {},
     "output_type": "display_data"
    }
   ],
   "execution_count": 3
  }
 ],
 "metadata": {
  "kernelspec": {
   "display_name": "Python 3",
   "language": "python",
   "name": "python3"
  },
  "language_info": {
   "codemirror_mode": {
    "name": "ipython",
    "version": 2
   },
   "file_extension": ".py",
   "mimetype": "text/x-python",
   "name": "python",
   "nbconvert_exporter": "python",
   "pygments_lexer": "ipython2",
   "version": "2.7.6"
  }
 },
 "nbformat": 4,
 "nbformat_minor": 5
}
